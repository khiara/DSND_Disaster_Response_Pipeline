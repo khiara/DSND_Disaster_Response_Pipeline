{
 "cells": [
  {
   "cell_type": "markdown",
   "metadata": {},
   "source": [
    "# ML Pipeline Preparation\n",
    "Follow the instructions below to help you create your ML pipeline.\n",
    "### 1. Import libraries and load data from database.\n",
    "- Import Python libraries\n",
    "- Load dataset from database with [`read_sql_table`](https://pandas.pydata.org/pandas-docs/stable/generated/pandas.read_sql_table.html)\n",
    "- Define feature and target variables X and Y"
   ]
  },
  {
   "cell_type": "code",
   "execution_count": 1,
   "metadata": {},
   "outputs": [
    {
     "name": "stdout",
     "output_type": "stream",
     "text": [
      "[nltk_data] Downloading package punkt to /root/nltk_data...\n",
      "[nltk_data]   Package punkt is already up-to-date!\n",
      "[nltk_data] Downloading package stopwords to /root/nltk_data...\n",
      "[nltk_data]   Package stopwords is already up-to-date!\n",
      "[nltk_data] Downloading package wordnet to /root/nltk_data...\n",
      "[nltk_data]   Package wordnet is already up-to-date!\n",
      "[nltk_data] Downloading package averaged_perceptron_tagger to\n",
      "[nltk_data]     /root/nltk_data...\n",
      "[nltk_data]   Package averaged_perceptron_tagger is already up-to-\n",
      "[nltk_data]       date!\n"
     ]
    }
   ],
   "source": [
    "# import libraries\n",
    "import pandas as pd\n",
    "import numpy as np\n",
    "import re\n",
    "from sqlalchemy import create_engine\n",
    "\n",
    "import warnings\n",
    "warnings.filterwarnings(\"ignore\")\n",
    "\n",
    "import nltk\n",
    "from nltk.tokenize import word_tokenize, sent_tokenize\n",
    "from nltk.stem import WordNetLemmatizer\n",
    "from nltk.corpus import stopwords\n",
    "\n",
    "nltk.download('punkt')\n",
    "nltk.download('stopwords')\n",
    "nltk.download('wordnet')\n",
    "nltk.download('averaged_perceptron_tagger')\n",
    "\n",
    "from sklearn.pipeline import Pipeline, FeatureUnion\n",
    "from sklearn.model_selection import train_test_split, GridSearchCV\n",
    "from sklearn.ensemble import RandomForestClassifier, AdaBoostClassifier\n",
    "from sklearn.multioutput import MultiOutputClassifier\n",
    "from sklearn.feature_extraction.text import CountVectorizer, TfidfTransformer\n",
    "from sklearn.base import BaseEstimator, TransformerMixin\n",
    "\n",
    "from sklearn.metrics import classification_report, accuracy_score\n",
    "\n",
    "import pickle"
   ]
  },
  {
   "cell_type": "code",
   "execution_count": 2,
   "metadata": {},
   "outputs": [],
   "source": [
    "# load data from database\n",
    "engine = create_engine('sqlite:///ETLproject.db')\n",
    "df = pd.read_sql_table('ETLproject', engine)\n",
    "X = df['message']\n",
    "y = df.iloc[:, 4:]"
   ]
  },
  {
   "cell_type": "markdown",
   "metadata": {},
   "source": [
    "### 2. Write a tokenization function to process your text data"
   ]
  },
  {
   "cell_type": "code",
   "execution_count": 3,
   "metadata": {},
   "outputs": [],
   "source": [
    "url_regex = 'http[s]?://(?:[a-zA-Z]|[0-9]|[$-_@.&+]|[!*\\(\\),]|(?:%[0-9a-fA-F][0-9a-fA-F]))+'"
   ]
  },
  {
   "cell_type": "code",
   "execution_count": 4,
   "metadata": {},
   "outputs": [],
   "source": [
    "def tokenize(text):\n",
    "    \n",
    "    detected_urls = re.findall(url_regex, text)\n",
    "    for url in detected_urls:\n",
    "        text = text.replace(url, \"urlplaceholder\")\n",
    "        \n",
    "    text = re.sub(r\"[^a-zA-Z0-9]\", \" \", text.lower())\n",
    "    \n",
    "    tokens = word_tokenize(text)\n",
    "    lemmatizer = WordNetLemmatizer()\n",
    "    stop_words = stopwords.words(\"english\")\n",
    "    \n",
    "    tokens = [lemmatizer.lemmatize(word) for word in tokens if word not in stop_words]\n",
    "    \n",
    "    return tokens"
   ]
  },
  {
   "cell_type": "markdown",
   "metadata": {},
   "source": [
    "### 3. Build a machine learning pipeline\n",
    "This machine pipeline should take in the `message` column as input and output classification results on the other 36 categories in the dataset. You may find the [MultiOutputClassifier](http://scikit-learn.org/stable/modules/generated/sklearn.multioutput.MultiOutputClassifier.html) helpful for predicting multiple target variables."
   ]
  },
  {
   "cell_type": "code",
   "execution_count": 5,
   "metadata": {},
   "outputs": [],
   "source": [
    "pipeline = Pipeline([\n",
    "    ('vect', CountVectorizer(tokenizer = tokenize)),\n",
    "    ('tfidf', TfidfTransformer()),\n",
    "    ('clf', MultiOutputClassifier(RandomForestClassifier()))\n",
    "])"
   ]
  },
  {
   "cell_type": "markdown",
   "metadata": {},
   "source": [
    "### 4. Train pipeline\n",
    "- Split data into train and test sets\n",
    "- Train pipeline"
   ]
  },
  {
   "cell_type": "code",
   "execution_count": 6,
   "metadata": {},
   "outputs": [],
   "source": [
    "X_test, X_train, y_test, y_train = train_test_split(X,y, random_state=42)\n",
    "pipeline.fit(X_train, y_train)\n",
    "\n",
    "y_pred = pipeline.predict(X_test)"
   ]
  },
  {
   "cell_type": "markdown",
   "metadata": {},
   "source": [
    "### 5. Test your model\n",
    "Report the f1 score, precision and recall for each output category of the dataset. You can do this by iterating through the columns and calling sklearn's `classification_report` on each."
   ]
  },
  {
   "cell_type": "code",
   "execution_count": 7,
   "metadata": {},
   "outputs": [
    {
     "name": "stdout",
     "output_type": "stream",
     "text": [
      "                        precision    recall  f1-score   support\n",
      "\n",
      "               related       0.84      0.91      0.87     14968\n",
      "               request       0.78      0.41      0.54      3370\n",
      "                 offer       0.00      0.00      0.00        92\n",
      "           aid_related       0.72      0.60      0.65      8146\n",
      "          medical_help       0.52      0.06      0.11      1542\n",
      "      medical_products       0.52      0.05      0.08       966\n",
      "     search_and_rescue       0.64      0.07      0.12       532\n",
      "              security       0.50      0.00      0.01       338\n",
      "              military       0.61      0.04      0.08       635\n",
      "           child_alone       0.00      0.00      0.00         0\n",
      "                 water       0.88      0.19      0.31      1242\n",
      "                  food       0.80      0.54      0.64      2192\n",
      "               shelter       0.83      0.25      0.38      1716\n",
      "              clothing       0.70      0.05      0.10       304\n",
      "                 money       0.89      0.02      0.04       436\n",
      "        missing_people       0.00      0.00      0.00       230\n",
      "              refugees       0.50      0.01      0.01       667\n",
      "                 death       0.69      0.08      0.15       900\n",
      "             other_aid       0.48      0.04      0.07      2612\n",
      "infrastructure_related       0.11      0.00      0.00      1286\n",
      "             transport       0.63      0.04      0.08       904\n",
      "             buildings       0.65      0.09      0.16       974\n",
      "           electricity       0.54      0.05      0.09       405\n",
      "                 tools       0.00      0.00      0.00       119\n",
      "             hospitals       0.00      0.00      0.00       212\n",
      "                 shops       0.00      0.00      0.00        85\n",
      "           aid_centers       0.00      0.00      0.00       237\n",
      "  other_infrastructure       0.00      0.00      0.00       870\n",
      "       weather_related       0.84      0.61      0.70      5483\n",
      "                floods       0.86      0.41      0.55      1621\n",
      "                 storm       0.76      0.48      0.59      1819\n",
      "                  fire       0.00      0.00      0.00       210\n",
      "            earthquake       0.87      0.59      0.71      1849\n",
      "                  cold       0.73      0.05      0.09       390\n",
      "         other_weather       0.49      0.04      0.07      1046\n",
      "         direct_report       0.70      0.31      0.43      3778\n",
      "\n",
      "           avg / total       0.71      0.48      0.52     62176\n",
      "\n"
     ]
    }
   ],
   "source": [
    "print(classification_report(y_test, y_pred, target_names = y.columns))"
   ]
  },
  {
   "cell_type": "code",
   "execution_count": 8,
   "metadata": {},
   "outputs": [
    {
     "name": "stdout",
     "output_type": "stream",
     "text": [
      "0.228523128938\n"
     ]
    }
   ],
   "source": [
    "print(accuracy_score(y_test.values, y_pred))"
   ]
  },
  {
   "cell_type": "code",
   "execution_count": 9,
   "metadata": {},
   "outputs": [
    {
     "data": {
      "text/plain": [
       "0.94277387884272779"
      ]
     },
     "execution_count": 9,
     "metadata": {},
     "output_type": "execute_result"
    }
   ],
   "source": [
    "accuracy_score(y_test.values.reshape(-1,1), y_pred.reshape(-1,1))"
   ]
  },
  {
   "cell_type": "markdown",
   "metadata": {},
   "source": [
    "### 6. Improve your model\n",
    "Use grid search to find better parameters. "
   ]
  },
  {
   "cell_type": "code",
   "execution_count": 10,
   "metadata": {},
   "outputs": [
    {
     "data": {
      "text/plain": [
       "{'memory': None,\n",
       " 'steps': [('vect',\n",
       "   CountVectorizer(analyzer='word', binary=False, decode_error='strict',\n",
       "           dtype=<class 'numpy.int64'>, encoding='utf-8', input='content',\n",
       "           lowercase=True, max_df=1.0, max_features=None, min_df=1,\n",
       "           ngram_range=(1, 1), preprocessor=None, stop_words=None,\n",
       "           strip_accents=None, token_pattern='(?u)\\\\b\\\\w\\\\w+\\\\b',\n",
       "           tokenizer=<function tokenize at 0x7f19222f9f28>, vocabulary=None)),\n",
       "  ('tfidf',\n",
       "   TfidfTransformer(norm='l2', smooth_idf=True, sublinear_tf=False, use_idf=True)),\n",
       "  ('clf',\n",
       "   MultiOutputClassifier(estimator=RandomForestClassifier(bootstrap=True, class_weight=None, criterion='gini',\n",
       "               max_depth=None, max_features='auto', max_leaf_nodes=None,\n",
       "               min_impurity_decrease=0.0, min_impurity_split=None,\n",
       "               min_samples_leaf=1, min_samples_split=2,\n",
       "               min_weight_fraction_leaf=0.0, n_estimators=10, n_jobs=1,\n",
       "               oob_score=False, random_state=None, verbose=0,\n",
       "               warm_start=False),\n",
       "              n_jobs=1))],\n",
       " 'vect': CountVectorizer(analyzer='word', binary=False, decode_error='strict',\n",
       "         dtype=<class 'numpy.int64'>, encoding='utf-8', input='content',\n",
       "         lowercase=True, max_df=1.0, max_features=None, min_df=1,\n",
       "         ngram_range=(1, 1), preprocessor=None, stop_words=None,\n",
       "         strip_accents=None, token_pattern='(?u)\\\\b\\\\w\\\\w+\\\\b',\n",
       "         tokenizer=<function tokenize at 0x7f19222f9f28>, vocabulary=None),\n",
       " 'tfidf': TfidfTransformer(norm='l2', smooth_idf=True, sublinear_tf=False, use_idf=True),\n",
       " 'clf': MultiOutputClassifier(estimator=RandomForestClassifier(bootstrap=True, class_weight=None, criterion='gini',\n",
       "             max_depth=None, max_features='auto', max_leaf_nodes=None,\n",
       "             min_impurity_decrease=0.0, min_impurity_split=None,\n",
       "             min_samples_leaf=1, min_samples_split=2,\n",
       "             min_weight_fraction_leaf=0.0, n_estimators=10, n_jobs=1,\n",
       "             oob_score=False, random_state=None, verbose=0,\n",
       "             warm_start=False),\n",
       "            n_jobs=1),\n",
       " 'vect__analyzer': 'word',\n",
       " 'vect__binary': False,\n",
       " 'vect__decode_error': 'strict',\n",
       " 'vect__dtype': numpy.int64,\n",
       " 'vect__encoding': 'utf-8',\n",
       " 'vect__input': 'content',\n",
       " 'vect__lowercase': True,\n",
       " 'vect__max_df': 1.0,\n",
       " 'vect__max_features': None,\n",
       " 'vect__min_df': 1,\n",
       " 'vect__ngram_range': (1, 1),\n",
       " 'vect__preprocessor': None,\n",
       " 'vect__stop_words': None,\n",
       " 'vect__strip_accents': None,\n",
       " 'vect__token_pattern': '(?u)\\\\b\\\\w\\\\w+\\\\b',\n",
       " 'vect__tokenizer': <function __main__.tokenize(text)>,\n",
       " 'vect__vocabulary': None,\n",
       " 'tfidf__norm': 'l2',\n",
       " 'tfidf__smooth_idf': True,\n",
       " 'tfidf__sublinear_tf': False,\n",
       " 'tfidf__use_idf': True,\n",
       " 'clf__estimator__bootstrap': True,\n",
       " 'clf__estimator__class_weight': None,\n",
       " 'clf__estimator__criterion': 'gini',\n",
       " 'clf__estimator__max_depth': None,\n",
       " 'clf__estimator__max_features': 'auto',\n",
       " 'clf__estimator__max_leaf_nodes': None,\n",
       " 'clf__estimator__min_impurity_decrease': 0.0,\n",
       " 'clf__estimator__min_impurity_split': None,\n",
       " 'clf__estimator__min_samples_leaf': 1,\n",
       " 'clf__estimator__min_samples_split': 2,\n",
       " 'clf__estimator__min_weight_fraction_leaf': 0.0,\n",
       " 'clf__estimator__n_estimators': 10,\n",
       " 'clf__estimator__n_jobs': 1,\n",
       " 'clf__estimator__oob_score': False,\n",
       " 'clf__estimator__random_state': None,\n",
       " 'clf__estimator__verbose': 0,\n",
       " 'clf__estimator__warm_start': False,\n",
       " 'clf__estimator': RandomForestClassifier(bootstrap=True, class_weight=None, criterion='gini',\n",
       "             max_depth=None, max_features='auto', max_leaf_nodes=None,\n",
       "             min_impurity_decrease=0.0, min_impurity_split=None,\n",
       "             min_samples_leaf=1, min_samples_split=2,\n",
       "             min_weight_fraction_leaf=0.0, n_estimators=10, n_jobs=1,\n",
       "             oob_score=False, random_state=None, verbose=0,\n",
       "             warm_start=False),\n",
       " 'clf__n_jobs': 1}"
      ]
     },
     "execution_count": 10,
     "metadata": {},
     "output_type": "execute_result"
    }
   ],
   "source": [
    "pipeline.get_params()"
   ]
  },
  {
   "cell_type": "code",
   "execution_count": 11,
   "metadata": {},
   "outputs": [],
   "source": [
    "parameters = {\n",
    "    'clf__estimator__n_estimators': [50, 100, 200],\n",
    "    'clf__estimator__max_depth':[20, 50]\n",
    "}\n",
    "\n",
    "cv = GridSearchCV(pipeline, param_grid=parameters, cv=2, verbose = 3)"
   ]
  },
  {
   "cell_type": "markdown",
   "metadata": {},
   "source": [
    "### 7. Test your model\n",
    "Show the accuracy, precision, and recall of the tuned model.  \n",
    "\n",
    "Since this project focuses on code quality, process, and  pipelines, there is no minimum performance metric needed to pass. However, make sure to fine tune your models for accuracy, precision and recall to make your project stand out - especially for your portfolio!"
   ]
  },
  {
   "cell_type": "code",
   "execution_count": 12,
   "metadata": {},
   "outputs": [
    {
     "name": "stdout",
     "output_type": "stream",
     "text": [
      "Fitting 2 folds for each of 6 candidates, totalling 12 fits\n",
      "[CV] clf__estimator__max_depth=20, clf__estimator__n_estimators=50 ...\n",
      "[CV]  clf__estimator__max_depth=20, clf__estimator__n_estimators=50, score=0.18254456054087279, total=  11.9s\n",
      "[CV] clf__estimator__max_depth=20, clf__estimator__n_estimators=50 ...\n"
     ]
    },
    {
     "name": "stderr",
     "output_type": "stream",
     "text": [
      "[Parallel(n_jobs=1)]: Done   1 out of   1 | elapsed:   14.9s remaining:    0.0s\n"
     ]
    },
    {
     "name": "stdout",
     "output_type": "stream",
     "text": [
      "[CV]  clf__estimator__max_depth=20, clf__estimator__n_estimators=50, score=0.17798954810943743, total=  12.0s\n",
      "[CV] clf__estimator__max_depth=20, clf__estimator__n_estimators=100 ..\n"
     ]
    },
    {
     "name": "stderr",
     "output_type": "stream",
     "text": [
      "[Parallel(n_jobs=1)]: Done   2 out of   2 | elapsed:   29.9s remaining:    0.0s\n"
     ]
    },
    {
     "name": "stdout",
     "output_type": "stream",
     "text": [
      "[CV]  clf__estimator__max_depth=20, clf__estimator__n_estimators=100, score=0.17977873386601106, total=  19.6s\n",
      "[CV] clf__estimator__max_depth=20, clf__estimator__n_estimators=100 ..\n",
      "[CV]  clf__estimator__max_depth=20, clf__estimator__n_estimators=100, score=0.18229326775284352, total=  19.5s\n",
      "[CV] clf__estimator__max_depth=20, clf__estimator__n_estimators=200 ..\n",
      "[CV]  clf__estimator__max_depth=20, clf__estimator__n_estimators=200, score=0.18315918869084205, total=  34.7s\n",
      "[CV] clf__estimator__max_depth=20, clf__estimator__n_estimators=200 ..\n",
      "[CV]  clf__estimator__max_depth=20, clf__estimator__n_estimators=200, score=0.1786043652013526, total=  34.4s\n",
      "[CV] clf__estimator__max_depth=50, clf__estimator__n_estimators=50 ...\n",
      "[CV]  clf__estimator__max_depth=50, clf__estimator__n_estimators=50, score=0.19514443761524278, total=  18.2s\n",
      "[CV] clf__estimator__max_depth=50, clf__estimator__n_estimators=50 ...\n",
      "[CV]  clf__estimator__max_depth=50, clf__estimator__n_estimators=50, score=0.19458960959114663, total=  18.2s\n",
      "[CV] clf__estimator__max_depth=50, clf__estimator__n_estimators=100 ..\n",
      "[CV]  clf__estimator__max_depth=50, clf__estimator__n_estimators=100, score=0.19022741241548863, total=  31.8s\n",
      "[CV] clf__estimator__max_depth=50, clf__estimator__n_estimators=100 ..\n",
      "[CV]  clf__estimator__max_depth=50, clf__estimator__n_estimators=100, score=0.18905625576391025, total=  31.8s\n",
      "[CV] clf__estimator__max_depth=50, clf__estimator__n_estimators=200 ..\n",
      "[CV]  clf__estimator__max_depth=50, clf__estimator__n_estimators=200, score=0.19422249539028888, total=  59.5s\n",
      "[CV] clf__estimator__max_depth=50, clf__estimator__n_estimators=200 ..\n",
      "[CV]  clf__estimator__max_depth=50, clf__estimator__n_estimators=200, score=0.18967107285582538, total=  59.8s\n"
     ]
    },
    {
     "name": "stderr",
     "output_type": "stream",
     "text": [
      "[Parallel(n_jobs=1)]: Done  12 out of  12 | elapsed:  6.8min finished\n"
     ]
    }
   ],
   "source": [
    "cv.fit(X_train, y_train)\n",
    "cv_y_pred = cv.predict(X_test)"
   ]
  },
  {
   "cell_type": "code",
   "execution_count": 13,
   "metadata": {},
   "outputs": [
    {
     "name": "stdout",
     "output_type": "stream",
     "text": [
      "                        precision    recall  f1-score   support\n",
      "\n",
      "               related       0.79      0.99      0.88     14968\n",
      "               request       0.91      0.25      0.39      3370\n",
      "                 offer       0.00      0.00      0.00        92\n",
      "           aid_related       0.78      0.56      0.65      8146\n",
      "          medical_help       0.50      0.01      0.01      1542\n",
      "      medical_products       0.82      0.03      0.06       966\n",
      "     search_and_rescue       1.00      0.00      0.00       532\n",
      "              security       0.00      0.00      0.00       338\n",
      "              military       0.83      0.03      0.06       635\n",
      "           child_alone       0.00      0.00      0.00         0\n",
      "                 water       0.85      0.02      0.03      1242\n",
      "                  food       0.91      0.16      0.28      2192\n",
      "               shelter       0.92      0.08      0.15      1716\n",
      "              clothing       0.67      0.04      0.07       304\n",
      "                 money       1.00      0.01      0.02       436\n",
      "        missing_people       0.00      0.00      0.00       230\n",
      "              refugees       0.33      0.00      0.00       667\n",
      "                 death       0.92      0.04      0.07       900\n",
      "             other_aid       0.00      0.00      0.00      2612\n",
      "infrastructure_related       0.00      0.00      0.00      1286\n",
      "             transport       0.89      0.01      0.02       904\n",
      "             buildings       0.82      0.01      0.02       974\n",
      "           electricity       0.67      0.00      0.01       405\n",
      "                 tools       0.00      0.00      0.00       119\n",
      "             hospitals       0.00      0.00      0.00       212\n",
      "                 shops       0.00      0.00      0.00        85\n",
      "           aid_centers       0.00      0.00      0.00       237\n",
      "  other_infrastructure       0.00      0.00      0.00       870\n",
      "       weather_related       0.91      0.45      0.60      5483\n",
      "                floods       0.92      0.07      0.13      1621\n",
      "                 storm       0.77      0.15      0.26      1819\n",
      "                  fire       0.00      0.00      0.00       210\n",
      "            earthquake       0.92      0.29      0.44      1849\n",
      "                  cold       0.81      0.03      0.06       390\n",
      "         other_weather       0.70      0.01      0.01      1046\n",
      "         direct_report       0.86      0.19      0.31      3778\n",
      "\n",
      "           avg / total       0.74      0.40      0.43     62176\n",
      "\n"
     ]
    }
   ],
   "source": [
    "print(classification_report(y_test, cv_y_pred, target_names = y.columns))"
   ]
  },
  {
   "cell_type": "code",
   "execution_count": 14,
   "metadata": {},
   "outputs": [
    {
     "name": "stdout",
     "output_type": "stream",
     "text": [
      "0.196147738333\n"
     ]
    }
   ],
   "source": [
    "print(accuracy_score(y_test.values, cv_y_pred))"
   ]
  },
  {
   "cell_type": "code",
   "execution_count": 15,
   "metadata": {},
   "outputs": [
    {
     "name": "stdout",
     "output_type": "stream",
     "text": [
      "0.938664344381\n"
     ]
    }
   ],
   "source": [
    "print(accuracy_score(y_test.values.reshape(-1,1), cv_y_pred.reshape(-1,1)))"
   ]
  },
  {
   "cell_type": "code",
   "execution_count": 16,
   "metadata": {},
   "outputs": [
    {
     "name": "stdout",
     "output_type": "stream",
     "text": [
      "{'clf__estimator__max_depth': 50, 'clf__estimator__n_estimators': 50}\n"
     ]
    }
   ],
   "source": [
    "print(cv.best_params_)"
   ]
  },
  {
   "cell_type": "markdown",
   "metadata": {},
   "source": [
    "### 8. Try improving your model further. Here are a few ideas:\n",
    "* try other machine learning algorithms\n",
    "* add other features besides the TF-IDF"
   ]
  },
  {
   "cell_type": "code",
   "execution_count": 17,
   "metadata": {},
   "outputs": [],
   "source": [
    "class StartingVerbExtractor(BaseEstimator, TransformerMixin):\n",
    "    \n",
    "    def starting_verb(self, text):\n",
    "        sent_list = nltk.sent_tokenize(text)\n",
    "        for sentence in sent_list:\n",
    "            pos_tags = nltk.pos_tag(tokenize(sentence))\n",
    "            if len(pos_tags) > 1:\n",
    "                first_word, first_tag = pos_tags[0]\n",
    "                if first_tag in ['VB', 'VBP'] or first_word == 'RT':\n",
    "                    return True\n",
    "            else:\n",
    "                return False\n",
    "        return False\n",
    "        \n",
    "    def fit(self, X, y=None):\n",
    "        return self\n",
    "    \n",
    "    def transform(self, X):\n",
    "        X_tagged = pd.Series(X).apply(self.starting_verb)\n",
    "        return pd.DataFrame(X_tagged)"
   ]
  },
  {
   "cell_type": "code",
   "execution_count": 18,
   "metadata": {},
   "outputs": [],
   "source": [
    "ab_pipeline = Pipeline([\n",
    "    ('features', FeatureUnion([\n",
    "        ('text_pipeline', Pipeline([\n",
    "            ('vect', CountVectorizer(tokenizer = tokenize)),\n",
    "            ('tfidf', TfidfTransformer())\n",
    "        ])),\n",
    "        \n",
    "        ('starting_verb', StartingVerbExtractor()),\n",
    "    ])),\n",
    "        \n",
    "        ('clf', MultiOutputClassifier(AdaBoostClassifier()))\n",
    "])"
   ]
  },
  {
   "cell_type": "code",
   "execution_count": 19,
   "metadata": {},
   "outputs": [],
   "source": [
    "ab_pipeline.fit(X_train, y_train)\n",
    "\n",
    "ab_y_pred = ab_pipeline.predict(X_test)"
   ]
  },
  {
   "cell_type": "code",
   "execution_count": 20,
   "metadata": {},
   "outputs": [
    {
     "name": "stdout",
     "output_type": "stream",
     "text": [
      "                        precision    recall  f1-score   support\n",
      "\n",
      "               related       0.81      0.96      0.87     14968\n",
      "               request       0.71      0.52      0.60      3370\n",
      "                 offer       0.03      0.01      0.02        92\n",
      "           aid_related       0.74      0.61      0.67      8146\n",
      "          medical_help       0.54      0.29      0.37      1542\n",
      "      medical_products       0.56      0.31      0.40       966\n",
      "     search_and_rescue       0.40      0.14      0.21       532\n",
      "              security       0.14      0.04      0.06       338\n",
      "              military       0.54      0.28      0.37       635\n",
      "           child_alone       0.00      0.00      0.00         0\n",
      "                 water       0.73      0.56      0.64      1242\n",
      "                  food       0.80      0.57      0.66      2192\n",
      "               shelter       0.72      0.50      0.59      1716\n",
      "              clothing       0.59      0.34      0.43       304\n",
      "                 money       0.51      0.23      0.32       436\n",
      "        missing_people       0.39      0.16      0.23       230\n",
      "              refugees       0.47      0.18      0.26       667\n",
      "                 death       0.68      0.44      0.53       900\n",
      "             other_aid       0.45      0.13      0.20      2612\n",
      "infrastructure_related       0.38      0.10      0.16      1286\n",
      "             transport       0.52      0.19      0.28       904\n",
      "             buildings       0.63      0.38      0.47       974\n",
      "           electricity       0.47      0.28      0.35       405\n",
      "                 tools       0.13      0.04      0.06       119\n",
      "             hospitals       0.21      0.07      0.11       212\n",
      "                 shops       0.00      0.00      0.00        85\n",
      "           aid_centers       0.22      0.07      0.11       237\n",
      "  other_infrastructure       0.27      0.09      0.14       870\n",
      "       weather_related       0.84      0.66      0.74      5483\n",
      "                floods       0.82      0.54      0.66      1621\n",
      "                 storm       0.72      0.51      0.60      1819\n",
      "                  fire       0.42      0.12      0.19       210\n",
      "            earthquake       0.86      0.77      0.81      1849\n",
      "                  cold       0.59      0.32      0.41       390\n",
      "         other_weather       0.42      0.16      0.23      1046\n",
      "         direct_report       0.65      0.42      0.51      3778\n",
      "\n",
      "           avg / total       0.69      0.57      0.61     62176\n",
      "\n"
     ]
    }
   ],
   "source": [
    "print(classification_report(y_test, ab_y_pred, target_names = y.columns))"
   ]
  },
  {
   "cell_type": "code",
   "execution_count": 21,
   "metadata": {},
   "outputs": [
    {
     "data": {
      "text/plain": [
       "0.94434483661469981"
      ]
     },
     "execution_count": 21,
     "metadata": {},
     "output_type": "execute_result"
    }
   ],
   "source": [
    "accuracy_score(y_test.values.reshape(-1,1), ab_y_pred.reshape(-1,1))"
   ]
  },
  {
   "cell_type": "code",
   "execution_count": 22,
   "metadata": {},
   "outputs": [
    {
     "data": {
      "text/plain": [
       "{'memory': None, 'steps': [('features', FeatureUnion(n_jobs=1,\n",
       "          transformer_list=[('text_pipeline', Pipeline(memory=None,\n",
       "        steps=[('vect', CountVectorizer(analyzer='word', binary=False, decode_error='strict',\n",
       "           dtype=<class 'numpy.int64'>, encoding='utf-8', input='content',\n",
       "           lowercase=True, max_df=1.0, max_features=None, min_df=1,\n",
       "           ngram_... smooth_idf=True, sublinear_tf=False, use_idf=True))])), ('starting_verb', StartingVerbExtractor())],\n",
       "          transformer_weights=None)),\n",
       "  ('clf',\n",
       "   MultiOutputClassifier(estimator=AdaBoostClassifier(algorithm='SAMME.R', base_estimator=None,\n",
       "             learning_rate=1.0, n_estimators=50, random_state=None),\n",
       "              n_jobs=1))], 'features': FeatureUnion(n_jobs=1,\n",
       "        transformer_list=[('text_pipeline', Pipeline(memory=None,\n",
       "      steps=[('vect', CountVectorizer(analyzer='word', binary=False, decode_error='strict',\n",
       "         dtype=<class 'numpy.int64'>, encoding='utf-8', input='content',\n",
       "         lowercase=True, max_df=1.0, max_features=None, min_df=1,\n",
       "         ngram_... smooth_idf=True, sublinear_tf=False, use_idf=True))])), ('starting_verb', StartingVerbExtractor())],\n",
       "        transformer_weights=None), 'clf': MultiOutputClassifier(estimator=AdaBoostClassifier(algorithm='SAMME.R', base_estimator=None,\n",
       "           learning_rate=1.0, n_estimators=50, random_state=None),\n",
       "            n_jobs=1), 'features__n_jobs': 1, 'features__transformer_list': [('text_pipeline',\n",
       "   Pipeline(memory=None,\n",
       "        steps=[('vect', CountVectorizer(analyzer='word', binary=False, decode_error='strict',\n",
       "           dtype=<class 'numpy.int64'>, encoding='utf-8', input='content',\n",
       "           lowercase=True, max_df=1.0, max_features=None, min_df=1,\n",
       "           ngram_range=(1, 1), preprocessor=None, stop_words=None,\n",
       "           strip...y=None)), ('tfidf', TfidfTransformer(norm='l2', smooth_idf=True, sublinear_tf=False, use_idf=True))])),\n",
       "  ('starting_verb',\n",
       "   StartingVerbExtractor())], 'features__transformer_weights': None, 'features__text_pipeline': Pipeline(memory=None,\n",
       "      steps=[('vect', CountVectorizer(analyzer='word', binary=False, decode_error='strict',\n",
       "         dtype=<class 'numpy.int64'>, encoding='utf-8', input='content',\n",
       "         lowercase=True, max_df=1.0, max_features=None, min_df=1,\n",
       "         ngram_range=(1, 1), preprocessor=None, stop_words=None,\n",
       "         strip...y=None)), ('tfidf', TfidfTransformer(norm='l2', smooth_idf=True, sublinear_tf=False, use_idf=True))]), 'features__starting_verb': StartingVerbExtractor(), 'features__text_pipeline__memory': None, 'features__text_pipeline__steps': [('vect',\n",
       "   CountVectorizer(analyzer='word', binary=False, decode_error='strict',\n",
       "           dtype=<class 'numpy.int64'>, encoding='utf-8', input='content',\n",
       "           lowercase=True, max_df=1.0, max_features=None, min_df=1,\n",
       "           ngram_range=(1, 1), preprocessor=None, stop_words=None,\n",
       "           strip_accents=None, token_pattern='(?u)\\\\b\\\\w\\\\w+\\\\b',\n",
       "           tokenizer=<function tokenize at 0x7f19222f9f28>, vocabulary=None)),\n",
       "  ('tfidf',\n",
       "   TfidfTransformer(norm='l2', smooth_idf=True, sublinear_tf=False, use_idf=True))], 'features__text_pipeline__vect': CountVectorizer(analyzer='word', binary=False, decode_error='strict',\n",
       "         dtype=<class 'numpy.int64'>, encoding='utf-8', input='content',\n",
       "         lowercase=True, max_df=1.0, max_features=None, min_df=1,\n",
       "         ngram_range=(1, 1), preprocessor=None, stop_words=None,\n",
       "         strip_accents=None, token_pattern='(?u)\\\\b\\\\w\\\\w+\\\\b',\n",
       "         tokenizer=<function tokenize at 0x7f19222f9f28>, vocabulary=None), 'features__text_pipeline__tfidf': TfidfTransformer(norm='l2', smooth_idf=True, sublinear_tf=False, use_idf=True), 'features__text_pipeline__vect__analyzer': 'word', 'features__text_pipeline__vect__binary': False, 'features__text_pipeline__vect__decode_error': 'strict', 'features__text_pipeline__vect__dtype': numpy.int64, 'features__text_pipeline__vect__encoding': 'utf-8', 'features__text_pipeline__vect__input': 'content', 'features__text_pipeline__vect__lowercase': True, 'features__text_pipeline__vect__max_df': 1.0, 'features__text_pipeline__vect__max_features': None, 'features__text_pipeline__vect__min_df': 1, 'features__text_pipeline__vect__ngram_range': (1,\n",
       "  1), 'features__text_pipeline__vect__preprocessor': None, 'features__text_pipeline__vect__stop_words': None, 'features__text_pipeline__vect__strip_accents': None, 'features__text_pipeline__vect__token_pattern': '(?u)\\\\b\\\\w\\\\w+\\\\b', 'features__text_pipeline__vect__tokenizer': <function __main__.tokenize(text)>, 'features__text_pipeline__vect__vocabulary': None, 'features__text_pipeline__tfidf__norm': 'l2', 'features__text_pipeline__tfidf__smooth_idf': True, 'features__text_pipeline__tfidf__sublinear_tf': False, 'features__text_pipeline__tfidf__use_idf': True, 'clf__estimator__algorithm': 'SAMME.R', 'clf__estimator__base_estimator': None, 'clf__estimator__learning_rate': 1.0, 'clf__estimator__n_estimators': 50, 'clf__estimator__random_state': None, 'clf__estimator': AdaBoostClassifier(algorithm='SAMME.R', base_estimator=None,\n",
       "           learning_rate=1.0, n_estimators=50, random_state=None), 'clf__n_jobs': 1}"
      ]
     },
     "execution_count": 22,
     "metadata": {},
     "output_type": "execute_result"
    }
   ],
   "source": [
    "ab_pipeline.get_params()"
   ]
  },
  {
   "cell_type": "code",
   "execution_count": 23,
   "metadata": {},
   "outputs": [],
   "source": [
    "ab_parameters = {\n",
    "    'clf__estimator__n_estimators': [50, 100, 200],\n",
    "    'clf__estimator__learning_rate':[0.001, 0.01, 0.1, 0.2, 0.5]\n",
    "}\n",
    "\n",
    "ab_cv = GridSearchCV(ab_pipeline, param_grid=ab_parameters, cv=2, verbose = 3)"
   ]
  },
  {
   "cell_type": "code",
   "execution_count": 24,
   "metadata": {},
   "outputs": [
    {
     "name": "stdout",
     "output_type": "stream",
     "text": [
      "Fitting 2 folds for each of 15 candidates, totalling 30 fits\n",
      "[CV] clf__estimator__learning_rate=0.001, clf__estimator__n_estimators=50 \n",
      "[CV]  clf__estimator__learning_rate=0.001, clf__estimator__n_estimators=50, score=0.16994468346650277, total=  35.5s\n",
      "[CV] clf__estimator__learning_rate=0.001, clf__estimator__n_estimators=50 \n"
     ]
    },
    {
     "name": "stderr",
     "output_type": "stream",
     "text": [
      "[Parallel(n_jobs=1)]: Done   1 out of   1 | elapsed:   45.6s remaining:    0.0s\n"
     ]
    },
    {
     "name": "stdout",
     "output_type": "stream",
     "text": [
      "[CV]  clf__estimator__learning_rate=0.001, clf__estimator__n_estimators=50, score=0.1838303104826314, total=  35.4s\n",
      "[CV] clf__estimator__learning_rate=0.001, clf__estimator__n_estimators=100 \n"
     ]
    },
    {
     "name": "stderr",
     "output_type": "stream",
     "text": [
      "[Parallel(n_jobs=1)]: Done   2 out of   2 | elapsed:  1.5min remaining:    0.0s\n"
     ]
    },
    {
     "name": "stdout",
     "output_type": "stream",
     "text": [
      "[CV]  clf__estimator__learning_rate=0.001, clf__estimator__n_estimators=100, score=0.17332513829133375, total=  52.7s\n",
      "[CV] clf__estimator__learning_rate=0.001, clf__estimator__n_estimators=100 \n",
      "[CV]  clf__estimator__learning_rate=0.001, clf__estimator__n_estimators=100, score=0.18444512757454656, total=  52.7s\n",
      "[CV] clf__estimator__learning_rate=0.001, clf__estimator__n_estimators=200 \n",
      "[CV]  clf__estimator__learning_rate=0.001, clf__estimator__n_estimators=200, score=0.17332513829133375, total= 1.4min\n",
      "[CV] clf__estimator__learning_rate=0.001, clf__estimator__n_estimators=200 \n",
      "[CV]  clf__estimator__learning_rate=0.001, clf__estimator__n_estimators=200, score=0.1869043959422072, total= 1.4min\n",
      "[CV] clf__estimator__learning_rate=0.01, clf__estimator__n_estimators=50 \n",
      "[CV]  clf__estimator__learning_rate=0.01, clf__estimator__n_estimators=50, score=0.18715427166564227, total=  35.3s\n",
      "[CV] clf__estimator__learning_rate=0.01, clf__estimator__n_estimators=50 \n",
      "[CV]  clf__estimator__learning_rate=0.01, clf__estimator__n_estimators=50, score=0.18444512757454656, total=  35.4s\n",
      "[CV] clf__estimator__learning_rate=0.01, clf__estimator__n_estimators=100 \n",
      "[CV]  clf__estimator__learning_rate=0.01, clf__estimator__n_estimators=100, score=0.19299323909035035, total=  52.5s\n",
      "[CV] clf__estimator__learning_rate=0.01, clf__estimator__n_estimators=100 \n",
      "[CV]  clf__estimator__learning_rate=0.01, clf__estimator__n_estimators=100, score=0.18505994466646172, total=  52.7s\n",
      "[CV] clf__estimator__learning_rate=0.01, clf__estimator__n_estimators=200 \n",
      "[CV]  clf__estimator__learning_rate=0.01, clf__estimator__n_estimators=200, score=0.20098340503995082, total= 1.4min\n",
      "[CV] clf__estimator__learning_rate=0.01, clf__estimator__n_estimators=200 \n",
      "[CV]  clf__estimator__learning_rate=0.01, clf__estimator__n_estimators=200, score=0.18598217030433445, total= 1.4min\n",
      "[CV] clf__estimator__learning_rate=0.1, clf__estimator__n_estimators=50 \n",
      "[CV]  clf__estimator__learning_rate=0.1, clf__estimator__n_estimators=50, score=0.20282728948985865, total=  35.2s\n",
      "[CV] clf__estimator__learning_rate=0.1, clf__estimator__n_estimators=50 \n",
      "[CV]  clf__estimator__learning_rate=0.1, clf__estimator__n_estimators=50, score=0.19889332923455272, total=  36.3s\n",
      "[CV] clf__estimator__learning_rate=0.1, clf__estimator__n_estimators=100 \n",
      "[CV]  clf__estimator__learning_rate=0.1, clf__estimator__n_estimators=100, score=0.21819299323909036, total=  52.4s\n",
      "[CV] clf__estimator__learning_rate=0.1, clf__estimator__n_estimators=100 \n",
      "[CV]  clf__estimator__learning_rate=0.1, clf__estimator__n_estimators=100, score=0.2167230249000922, total=  52.3s\n",
      "[CV] clf__estimator__learning_rate=0.1, clf__estimator__n_estimators=200 \n",
      "[CV]  clf__estimator__learning_rate=0.1, clf__estimator__n_estimators=200, score=0.23632452366318377, total= 1.4min\n",
      "[CV] clf__estimator__learning_rate=0.1, clf__estimator__n_estimators=200 \n",
      "[CV]  clf__estimator__learning_rate=0.1, clf__estimator__n_estimators=200, score=0.22440823854903166, total= 1.4min\n",
      "[CV] clf__estimator__learning_rate=0.2, clf__estimator__n_estimators=50 \n",
      "[CV]  clf__estimator__learning_rate=0.2, clf__estimator__n_estimators=50, score=0.2169637369391518, total=  35.2s\n",
      "[CV] clf__estimator__learning_rate=0.2, clf__estimator__n_estimators=50 \n",
      "[CV]  clf__estimator__learning_rate=0.2, clf__estimator__n_estimators=50, score=0.21487857362434676, total=  35.3s\n",
      "[CV] clf__estimator__learning_rate=0.2, clf__estimator__n_estimators=100 \n",
      "[CV]  clf__estimator__learning_rate=0.2, clf__estimator__n_estimators=100, score=0.2231100184388445, total=  52.4s\n",
      "[CV] clf__estimator__learning_rate=0.2, clf__estimator__n_estimators=100 \n",
      "[CV]  clf__estimator__learning_rate=0.2, clf__estimator__n_estimators=100, score=0.21918229326775285, total=  52.5s\n",
      "[CV] clf__estimator__learning_rate=0.2, clf__estimator__n_estimators=200 \n",
      "[CV]  clf__estimator__learning_rate=0.2, clf__estimator__n_estimators=200, score=0.22802704363859866, total= 1.4min\n",
      "[CV] clf__estimator__learning_rate=0.2, clf__estimator__n_estimators=200 \n",
      "[CV]  clf__estimator__learning_rate=0.2, clf__estimator__n_estimators=200, score=0.22994159237626807, total= 1.4min\n",
      "[CV] clf__estimator__learning_rate=0.5, clf__estimator__n_estimators=50 \n",
      "[CV]  clf__estimator__learning_rate=0.5, clf__estimator__n_estimators=50, score=0.22864167178856792, total=  35.3s\n",
      "[CV] clf__estimator__learning_rate=0.5, clf__estimator__n_estimators=50 \n",
      "[CV]  clf__estimator__learning_rate=0.5, clf__estimator__n_estimators=50, score=0.22010451890562557, total=  35.4s\n",
      "[CV] clf__estimator__learning_rate=0.5, clf__estimator__n_estimators=100 \n",
      "[CV]  clf__estimator__learning_rate=0.5, clf__estimator__n_estimators=100, score=0.2194222495390289, total=  52.5s\n",
      "[CV] clf__estimator__learning_rate=0.5, clf__estimator__n_estimators=100 \n",
      "[CV]  clf__estimator__learning_rate=0.5, clf__estimator__n_estimators=100, score=0.2210267445434983, total=  52.6s\n",
      "[CV] clf__estimator__learning_rate=0.5, clf__estimator__n_estimators=200 \n",
      "[CV]  clf__estimator__learning_rate=0.5, clf__estimator__n_estimators=200, score=0.2114320835894284, total= 1.4min\n",
      "[CV] clf__estimator__learning_rate=0.5, clf__estimator__n_estimators=200 \n",
      "[CV]  clf__estimator__learning_rate=0.5, clf__estimator__n_estimators=200, score=0.21764525053796496, total= 1.4min\n"
     ]
    },
    {
     "name": "stderr",
     "output_type": "stream",
     "text": [
      "[Parallel(n_jobs=1)]: Done  30 out of  30 | elapsed: 34.9min finished\n"
     ]
    }
   ],
   "source": [
    "ab_cv.fit(X_train, y_train)\n",
    "ab_cv_y_pred = ab_cv.predict(X_test)"
   ]
  },
  {
   "cell_type": "code",
   "execution_count": 25,
   "metadata": {},
   "outputs": [
    {
     "name": "stdout",
     "output_type": "stream",
     "text": [
      "                        precision    recall  f1-score   support\n",
      "\n",
      "               related       0.79      0.98      0.88     14968\n",
      "               request       0.81      0.41      0.54      3370\n",
      "                 offer       0.22      0.02      0.04        92\n",
      "           aid_related       0.78      0.51      0.62      8146\n",
      "          medical_help       0.59      0.12      0.20      1542\n",
      "      medical_products       0.76      0.17      0.28       966\n",
      "     search_and_rescue       0.66      0.13      0.22       532\n",
      "              security       0.42      0.01      0.03       338\n",
      "              military       0.65      0.12      0.20       635\n",
      "           child_alone       0.00      0.00      0.00         0\n",
      "                 water       0.78      0.52      0.62      1242\n",
      "                  food       0.78      0.68      0.73      2192\n",
      "               shelter       0.83      0.46      0.59      1716\n",
      "              clothing       0.77      0.33      0.46       304\n",
      "                 money       0.72      0.11      0.19       436\n",
      "        missing_people       0.86      0.11      0.19       230\n",
      "              refugees       0.73      0.09      0.17       667\n",
      "                 death       0.83      0.25      0.38       900\n",
      "             other_aid       0.62      0.04      0.07      2612\n",
      "infrastructure_related       0.47      0.02      0.04      1286\n",
      "             transport       0.74      0.11      0.19       904\n",
      "             buildings       0.76      0.23      0.35       974\n",
      "           electricity       0.71      0.13      0.21       405\n",
      "                 tools       0.30      0.03      0.05       119\n",
      "             hospitals       0.28      0.02      0.04       212\n",
      "                 shops       0.00      0.00      0.00        85\n",
      "           aid_centers       0.25      0.00      0.01       237\n",
      "  other_infrastructure       0.41      0.02      0.04       870\n",
      "       weather_related       0.90      0.55      0.69      5483\n",
      "                floods       0.88      0.51      0.64      1621\n",
      "                 storm       0.79      0.37      0.51      1819\n",
      "                  fire       0.61      0.05      0.10       210\n",
      "            earthquake       0.90      0.78      0.83      1849\n",
      "                  cold       0.71      0.18      0.29       390\n",
      "         other_weather       0.58      0.07      0.12      1046\n",
      "         direct_report       0.78      0.29      0.43      3778\n",
      "\n",
      "           avg / total       0.76      0.51      0.56     62176\n",
      "\n"
     ]
    }
   ],
   "source": [
    "print(classification_report(y_test, ab_cv_y_pred, target_names = y.columns))"
   ]
  },
  {
   "cell_type": "code",
   "execution_count": 26,
   "metadata": {},
   "outputs": [
    {
     "name": "stdout",
     "output_type": "stream",
     "text": [
      "0.945494595564\n"
     ]
    }
   ],
   "source": [
    "print(accuracy_score(y_test.values.reshape(-1,1), ab_cv_y_pred.reshape(-1,1)))"
   ]
  },
  {
   "cell_type": "code",
   "execution_count": 27,
   "metadata": {},
   "outputs": [
    {
     "name": "stdout",
     "output_type": "stream",
     "text": [
      "{'clf__estimator__learning_rate': 0.1, 'clf__estimator__n_estimators': 200}\n"
     ]
    }
   ],
   "source": [
    "print(ab_cv.best_params_)"
   ]
  },
  {
   "cell_type": "code",
   "execution_count": 28,
   "metadata": {},
   "outputs": [
    {
     "name": "stdout",
     "output_type": "stream",
     "text": [
      "Pipeline(memory=None,\n",
      "     steps=[('features', FeatureUnion(n_jobs=1,\n",
      "       transformer_list=[('text_pipeline', Pipeline(memory=None,\n",
      "     steps=[('vect', CountVectorizer(analyzer='word', binary=False, decode_error='strict',\n",
      "        dtype=<class 'numpy.int64'>, encoding='utf-8', input='content',\n",
      "        lowercase=True, max_d...ator=None,\n",
      "          learning_rate=0.1, n_estimators=200, random_state=None),\n",
      "           n_jobs=1))])\n"
     ]
    }
   ],
   "source": [
    "best_model = ab_cv.best_estimator_\n",
    "print(best_model)"
   ]
  },
  {
   "cell_type": "markdown",
   "metadata": {},
   "source": [
    "### 9. Export your model as a pickle file"
   ]
  },
  {
   "cell_type": "code",
   "execution_count": 29,
   "metadata": {},
   "outputs": [],
   "source": [
    "filename = 'bestmodel.pkl'\n",
    "pickle.dump(best_model, open(filename, 'wb'))"
   ]
  },
  {
   "cell_type": "markdown",
   "metadata": {},
   "source": [
    "### 10. Use this notebook to complete `train.py`\n",
    "Use the template file attached in the Resources folder to write a script that runs the steps above to create a database and export a model based on a new dataset specified by the user."
   ]
  },
  {
   "cell_type": "code",
   "execution_count": null,
   "metadata": {},
   "outputs": [],
   "source": []
  }
 ],
 "metadata": {
  "kernelspec": {
   "display_name": "Python 3",
   "language": "python",
   "name": "python3"
  },
  "language_info": {
   "codemirror_mode": {
    "name": "ipython",
    "version": 3
   },
   "file_extension": ".py",
   "mimetype": "text/x-python",
   "name": "python",
   "nbconvert_exporter": "python",
   "pygments_lexer": "ipython3",
   "version": "3.6.3"
  }
 },
 "nbformat": 4,
 "nbformat_minor": 2
}
